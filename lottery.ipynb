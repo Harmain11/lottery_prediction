{
 "cells": [
  {
   "cell_type": "markdown",
   "id": "8b1f3778",
   "metadata": {},
   "source": [
    "# Downloading Packages"
   ]
  },
  {
   "cell_type": "code",
   "execution_count": 2,
   "id": "15f6a7e3",
   "metadata": {},
   "outputs": [
    {
     "name": "stdout",
     "output_type": "stream",
     "text": [
      "Requirement already satisfied: pandas in c:\\users\\we\\anaconda3\\lib\\site-packages (1.4.0)\n",
      "Requirement already satisfied: numpy in c:\\users\\we\\anaconda3\\lib\\site-packages (1.21.6)\n",
      "Requirement already satisfied: keras in c:\\users\\we\\anaconda3\\lib\\site-packages (2.11.0)\n",
      "Requirement already satisfied: matplotlib in c:\\users\\we\\anaconda3\\lib\\site-packages (3.6.3)\n",
      "Requirement already satisfied: scikit-learn in c:\\users\\we\\anaconda3\\lib\\site-packages (1.0.2)\n",
      "Requirement already satisfied: pytz>=2020.1 in c:\\users\\we\\anaconda3\\lib\\site-packages (from pandas) (2022.7.1)\n",
      "Requirement already satisfied: python-dateutil>=2.8.1 in c:\\users\\we\\anaconda3\\lib\\site-packages (from pandas) (2.8.2)\n",
      "Requirement already satisfied: contourpy>=1.0.1 in c:\\users\\we\\anaconda3\\lib\\site-packages (from matplotlib) (1.0.6)\n",
      "Requirement already satisfied: kiwisolver>=1.0.1 in c:\\users\\we\\anaconda3\\lib\\site-packages (from matplotlib) (1.3.2)\n",
      "Requirement already satisfied: fonttools>=4.22.0 in c:\\users\\we\\anaconda3\\lib\\site-packages (from matplotlib) (4.25.0)\n",
      "Requirement already satisfied: packaging>=20.0 in c:\\users\\we\\anaconda3\\lib\\site-packages (from matplotlib) (21.3)\n",
      "Requirement already satisfied: pyparsing>=2.2.1 in c:\\users\\we\\anaconda3\\lib\\site-packages (from matplotlib) (2.4.7)\n",
      "Requirement already satisfied: cycler>=0.10 in c:\\users\\we\\anaconda3\\lib\\site-packages (from matplotlib) (0.10.0)\n",
      "Requirement already satisfied: pillow>=6.2.0 in c:\\users\\we\\anaconda3\\lib\\site-packages (from matplotlib) (9.0.1)\n",
      "Requirement already satisfied: threadpoolctl>=2.0.0 in c:\\users\\we\\anaconda3\\lib\\site-packages (from scikit-learn) (2.2.0)\n",
      "Requirement already satisfied: scipy>=1.1.0 in c:\\users\\we\\anaconda3\\lib\\site-packages (from scikit-learn) (1.7.3)\n",
      "Requirement already satisfied: joblib>=0.11 in c:\\users\\we\\anaconda3\\lib\\site-packages (from scikit-learn) (1.2.0)\n",
      "Requirement already satisfied: six in c:\\users\\we\\anaconda3\\lib\\site-packages (from cycler>=0.10->matplotlib) (1.15.0)\n"
     ]
    }
   ],
   "source": [
    "!pip install pandas numpy keras matplotlib scikit-learn"
   ]
  },
  {
   "cell_type": "markdown",
   "id": "Pid139IKeYcL",
   "metadata": {
    "id": "Pid139IKeYcL"
   },
   "source": [
    "# Importing Packages"
   ]
  },
  {
   "cell_type": "code",
   "execution_count": 3,
   "id": "aee145b1",
   "metadata": {
    "id": "aee145b1"
   },
   "outputs": [],
   "source": [
    "import pandas as pd\n",
    "import numpy as np\n",
    "from keras.models import Sequential\n",
    "from keras.layers import LSTM, Dense, Bidirectional, Dropout\n",
    "from sklearn.preprocessing import MinMaxScaler\n",
    "from keras.optimizers import Adam\n",
    "import matplotlib.pyplot as plt"
   ]
  },
  {
   "cell_type": "markdown",
   "id": "B4Uiex4GecDp",
   "metadata": {
    "id": "B4Uiex4GecDp"
   },
   "source": [
    "# Data Preprocessing"
   ]
  },
  {
   "cell_type": "code",
   "execution_count": 4,
   "id": "f15c39a6",
   "metadata": {
    "id": "f15c39a6"
   },
   "outputs": [],
   "source": [
    "df = pd.read_excel('input copy full 2 (copy).xlsx')"
   ]
  },
  {
   "cell_type": "code",
   "execution_count": 3,
   "id": "5611246e",
   "metadata": {
    "colab": {
     "base_uri": "https://localhost:8080/",
     "height": 206
    },
    "id": "5611246e",
    "outputId": "8701f126-b10d-475f-ad0d-68c4f034c908"
   },
   "outputs": [
    {
     "data": {
      "text/html": [
       "\n",
       "  <div id=\"df-4fc7c0cb-1c93-40bc-ba7d-e8ec9f746d93\">\n",
       "    <div class=\"colab-df-container\">\n",
       "      <div>\n",
       "<style scoped>\n",
       "    .dataframe tbody tr th:only-of-type {\n",
       "        vertical-align: middle;\n",
       "    }\n",
       "\n",
       "    .dataframe tbody tr th {\n",
       "        vertical-align: top;\n",
       "    }\n",
       "\n",
       "    .dataframe thead th {\n",
       "        text-align: right;\n",
       "    }\n",
       "</style>\n",
       "<table border=\"1\" class=\"dataframe\">\n",
       "  <thead>\n",
       "    <tr style=\"text-align: right;\">\n",
       "      <th></th>\n",
       "      <th>Unnamed: 0</th>\n",
       "      <th>Unnamed: 1</th>\n",
       "      <th>Unnamed: 2</th>\n",
       "    </tr>\n",
       "  </thead>\n",
       "  <tbody>\n",
       "    <tr>\n",
       "      <th>0</th>\n",
       "      <td>2023-02-28</td>\n",
       "      <td>NaN</td>\n",
       "      <td>04 06 10 26 30</td>\n",
       "    </tr>\n",
       "    <tr>\n",
       "      <th>1</th>\n",
       "      <td>2022-02-27</td>\n",
       "      <td>NaN</td>\n",
       "      <td>01 03 18 26 27</td>\n",
       "    </tr>\n",
       "    <tr>\n",
       "      <th>2</th>\n",
       "      <td>2022-02-26</td>\n",
       "      <td>NaN</td>\n",
       "      <td>13 17 18 50 60</td>\n",
       "    </tr>\n",
       "    <tr>\n",
       "      <th>3</th>\n",
       "      <td>2022-02-25</td>\n",
       "      <td>NaN</td>\n",
       "      <td>09 12 35 35 56</td>\n",
       "    </tr>\n",
       "    <tr>\n",
       "      <th>4</th>\n",
       "      <td>2022-02-24</td>\n",
       "      <td>NaN</td>\n",
       "      <td>15 21 39 45 49</td>\n",
       "    </tr>\n",
       "  </tbody>\n",
       "</table>\n",
       "</div>\n",
       "      <button class=\"colab-df-convert\" onclick=\"convertToInteractive('df-4fc7c0cb-1c93-40bc-ba7d-e8ec9f746d93')\"\n",
       "              title=\"Convert this dataframe to an interactive table.\"\n",
       "              style=\"display:none;\">\n",
       "        \n",
       "  <svg xmlns=\"http://www.w3.org/2000/svg\" height=\"24px\"viewBox=\"0 0 24 24\"\n",
       "       width=\"24px\">\n",
       "    <path d=\"M0 0h24v24H0V0z\" fill=\"none\"/>\n",
       "    <path d=\"M18.56 5.44l.94 2.06.94-2.06 2.06-.94-2.06-.94-.94-2.06-.94 2.06-2.06.94zm-11 1L8.5 8.5l.94-2.06 2.06-.94-2.06-.94L8.5 2.5l-.94 2.06-2.06.94zm10 10l.94 2.06.94-2.06 2.06-.94-2.06-.94-.94-2.06-.94 2.06-2.06.94z\"/><path d=\"M17.41 7.96l-1.37-1.37c-.4-.4-.92-.59-1.43-.59-.52 0-1.04.2-1.43.59L10.3 9.45l-7.72 7.72c-.78.78-.78 2.05 0 2.83L4 21.41c.39.39.9.59 1.41.59.51 0 1.02-.2 1.41-.59l7.78-7.78 2.81-2.81c.8-.78.8-2.07 0-2.86zM5.41 20L4 18.59l7.72-7.72 1.47 1.35L5.41 20z\"/>\n",
       "  </svg>\n",
       "      </button>\n",
       "      \n",
       "  <style>\n",
       "    .colab-df-container {\n",
       "      display:flex;\n",
       "      flex-wrap:wrap;\n",
       "      gap: 12px;\n",
       "    }\n",
       "\n",
       "    .colab-df-convert {\n",
       "      background-color: #E8F0FE;\n",
       "      border: none;\n",
       "      border-radius: 50%;\n",
       "      cursor: pointer;\n",
       "      display: none;\n",
       "      fill: #1967D2;\n",
       "      height: 32px;\n",
       "      padding: 0 0 0 0;\n",
       "      width: 32px;\n",
       "    }\n",
       "\n",
       "    .colab-df-convert:hover {\n",
       "      background-color: #E2EBFA;\n",
       "      box-shadow: 0px 1px 2px rgba(60, 64, 67, 0.3), 0px 1px 3px 1px rgba(60, 64, 67, 0.15);\n",
       "      fill: #174EA6;\n",
       "    }\n",
       "\n",
       "    [theme=dark] .colab-df-convert {\n",
       "      background-color: #3B4455;\n",
       "      fill: #D2E3FC;\n",
       "    }\n",
       "\n",
       "    [theme=dark] .colab-df-convert:hover {\n",
       "      background-color: #434B5C;\n",
       "      box-shadow: 0px 1px 3px 1px rgba(0, 0, 0, 0.15);\n",
       "      filter: drop-shadow(0px 1px 2px rgba(0, 0, 0, 0.3));\n",
       "      fill: #FFFFFF;\n",
       "    }\n",
       "  </style>\n",
       "\n",
       "      <script>\n",
       "        const buttonEl =\n",
       "          document.querySelector('#df-4fc7c0cb-1c93-40bc-ba7d-e8ec9f746d93 button.colab-df-convert');\n",
       "        buttonEl.style.display =\n",
       "          google.colab.kernel.accessAllowed ? 'block' : 'none';\n",
       "\n",
       "        async function convertToInteractive(key) {\n",
       "          const element = document.querySelector('#df-4fc7c0cb-1c93-40bc-ba7d-e8ec9f746d93');\n",
       "          const dataTable =\n",
       "            await google.colab.kernel.invokeFunction('convertToInteractive',\n",
       "                                                     [key], {});\n",
       "          if (!dataTable) return;\n",
       "\n",
       "          const docLinkHtml = 'Like what you see? Visit the ' +\n",
       "            '<a target=\"_blank\" href=https://colab.research.google.com/notebooks/data_table.ipynb>data table notebook</a>'\n",
       "            + ' to learn more about interactive tables.';\n",
       "          element.innerHTML = '';\n",
       "          dataTable['output_type'] = 'display_data';\n",
       "          await google.colab.output.renderOutput(dataTable, element);\n",
       "          const docLink = document.createElement('div');\n",
       "          docLink.innerHTML = docLinkHtml;\n",
       "          element.appendChild(docLink);\n",
       "        }\n",
       "      </script>\n",
       "    </div>\n",
       "  </div>\n",
       "  "
      ],
      "text/plain": [
       "  Unnamed: 0  Unnamed: 1      Unnamed: 2\n",
       "0 2023-02-28         NaN  04 06 10 26 30\n",
       "1 2022-02-27         NaN  01 03 18 26 27\n",
       "2 2022-02-26         NaN  13 17 18 50 60\n",
       "3 2022-02-25         NaN  09 12 35 35 56\n",
       "4 2022-02-24         NaN  15 21 39 45 49"
      ]
     },
     "execution_count": 3,
     "metadata": {},
     "output_type": "execute_result"
    }
   ],
   "source": [
    "df.head()"
   ]
  },
  {
   "cell_type": "code",
   "execution_count": 4,
   "id": "344b15f2",
   "metadata": {
    "colab": {
     "base_uri": "https://localhost:8080/"
    },
    "id": "344b15f2",
    "outputId": "6c0ae85b-ca1c-4b81-be66-1d869ccf0e63"
   },
   "outputs": [
    {
     "name": "stdout",
     "output_type": "stream",
     "text": [
      "<class 'pandas.core.frame.DataFrame'>\n",
      "RangeIndex: 1773 entries, 0 to 1772\n",
      "Data columns (total 3 columns):\n",
      " #   Column      Non-Null Count  Dtype         \n",
      "---  ------      --------------  -----         \n",
      " 0   Unnamed: 0  1773 non-null   datetime64[ns]\n",
      " 1   Unnamed: 1  0 non-null      float64       \n",
      " 2   Unnamed: 2  1773 non-null   object        \n",
      "dtypes: datetime64[ns](1), float64(1), object(1)\n",
      "memory usage: 41.7+ KB\n"
     ]
    }
   ],
   "source": [
    "df.info()"
   ]
  },
  {
   "cell_type": "code",
   "execution_count": 5,
   "id": "5a82ce4b",
   "metadata": {
    "id": "5a82ce4b"
   },
   "outputs": [],
   "source": [
    "# split the numbers column into separate columns\n",
    "numbers_df = df['Unnamed: 2'].str.split(expand=True)"
   ]
  },
  {
   "cell_type": "code",
   "execution_count": 6,
   "id": "94d38e4b",
   "metadata": {
    "id": "94d38e4b"
   },
   "outputs": [],
   "source": [
    "numbers_df = numbers_df.astype(int)"
   ]
  },
  {
   "cell_type": "code",
   "execution_count": 7,
   "id": "WlQ9CYT-fcxt",
   "metadata": {
    "colab": {
     "base_uri": "https://localhost:8080/",
     "height": 300
    },
    "id": "WlQ9CYT-fcxt",
    "outputId": "2294c57b-2e2d-4fa6-b86b-bb48f42c9285"
   },
   "outputs": [
    {
     "data": {
      "text/html": [
       "\n",
       "  <div id=\"df-d328cb5a-2330-4490-9e70-17b21d5bc7f0\">\n",
       "    <div class=\"colab-df-container\">\n",
       "      <div>\n",
       "<style scoped>\n",
       "    .dataframe tbody tr th:only-of-type {\n",
       "        vertical-align: middle;\n",
       "    }\n",
       "\n",
       "    .dataframe tbody tr th {\n",
       "        vertical-align: top;\n",
       "    }\n",
       "\n",
       "    .dataframe thead th {\n",
       "        text-align: right;\n",
       "    }\n",
       "</style>\n",
       "<table border=\"1\" class=\"dataframe\">\n",
       "  <thead>\n",
       "    <tr style=\"text-align: right;\">\n",
       "      <th></th>\n",
       "      <th>0</th>\n",
       "      <th>1</th>\n",
       "      <th>2</th>\n",
       "      <th>3</th>\n",
       "      <th>4</th>\n",
       "    </tr>\n",
       "  </thead>\n",
       "  <tbody>\n",
       "    <tr>\n",
       "      <th>count</th>\n",
       "      <td>1773.000000</td>\n",
       "      <td>1773.000000</td>\n",
       "      <td>1773.000000</td>\n",
       "      <td>1773.000000</td>\n",
       "      <td>1773.000000</td>\n",
       "    </tr>\n",
       "    <tr>\n",
       "      <th>mean</th>\n",
       "      <td>10.238579</td>\n",
       "      <td>20.166385</td>\n",
       "      <td>30.358150</td>\n",
       "      <td>40.503666</td>\n",
       "      <td>50.687535</td>\n",
       "    </tr>\n",
       "    <tr>\n",
       "      <th>std</th>\n",
       "      <td>8.142567</td>\n",
       "      <td>10.339112</td>\n",
       "      <td>11.019518</td>\n",
       "      <td>10.644396</td>\n",
       "      <td>8.242819</td>\n",
       "    </tr>\n",
       "    <tr>\n",
       "      <th>min</th>\n",
       "      <td>1.000000</td>\n",
       "      <td>2.000000</td>\n",
       "      <td>4.000000</td>\n",
       "      <td>6.000000</td>\n",
       "      <td>14.000000</td>\n",
       "    </tr>\n",
       "    <tr>\n",
       "      <th>25%</th>\n",
       "      <td>4.000000</td>\n",
       "      <td>12.000000</td>\n",
       "      <td>22.000000</td>\n",
       "      <td>34.000000</td>\n",
       "      <td>46.000000</td>\n",
       "    </tr>\n",
       "    <tr>\n",
       "      <th>50%</th>\n",
       "      <td>8.000000</td>\n",
       "      <td>19.000000</td>\n",
       "      <td>30.000000</td>\n",
       "      <td>42.000000</td>\n",
       "      <td>53.000000</td>\n",
       "    </tr>\n",
       "    <tr>\n",
       "      <th>75%</th>\n",
       "      <td>15.000000</td>\n",
       "      <td>27.000000</td>\n",
       "      <td>39.000000</td>\n",
       "      <td>49.000000</td>\n",
       "      <td>57.000000</td>\n",
       "    </tr>\n",
       "    <tr>\n",
       "      <th>max</th>\n",
       "      <td>46.000000</td>\n",
       "      <td>56.000000</td>\n",
       "      <td>58.000000</td>\n",
       "      <td>59.000000</td>\n",
       "      <td>60.000000</td>\n",
       "    </tr>\n",
       "  </tbody>\n",
       "</table>\n",
       "</div>\n",
       "      <button class=\"colab-df-convert\" onclick=\"convertToInteractive('df-d328cb5a-2330-4490-9e70-17b21d5bc7f0')\"\n",
       "              title=\"Convert this dataframe to an interactive table.\"\n",
       "              style=\"display:none;\">\n",
       "        \n",
       "  <svg xmlns=\"http://www.w3.org/2000/svg\" height=\"24px\"viewBox=\"0 0 24 24\"\n",
       "       width=\"24px\">\n",
       "    <path d=\"M0 0h24v24H0V0z\" fill=\"none\"/>\n",
       "    <path d=\"M18.56 5.44l.94 2.06.94-2.06 2.06-.94-2.06-.94-.94-2.06-.94 2.06-2.06.94zm-11 1L8.5 8.5l.94-2.06 2.06-.94-2.06-.94L8.5 2.5l-.94 2.06-2.06.94zm10 10l.94 2.06.94-2.06 2.06-.94-2.06-.94-.94-2.06-.94 2.06-2.06.94z\"/><path d=\"M17.41 7.96l-1.37-1.37c-.4-.4-.92-.59-1.43-.59-.52 0-1.04.2-1.43.59L10.3 9.45l-7.72 7.72c-.78.78-.78 2.05 0 2.83L4 21.41c.39.39.9.59 1.41.59.51 0 1.02-.2 1.41-.59l7.78-7.78 2.81-2.81c.8-.78.8-2.07 0-2.86zM5.41 20L4 18.59l7.72-7.72 1.47 1.35L5.41 20z\"/>\n",
       "  </svg>\n",
       "      </button>\n",
       "      \n",
       "  <style>\n",
       "    .colab-df-container {\n",
       "      display:flex;\n",
       "      flex-wrap:wrap;\n",
       "      gap: 12px;\n",
       "    }\n",
       "\n",
       "    .colab-df-convert {\n",
       "      background-color: #E8F0FE;\n",
       "      border: none;\n",
       "      border-radius: 50%;\n",
       "      cursor: pointer;\n",
       "      display: none;\n",
       "      fill: #1967D2;\n",
       "      height: 32px;\n",
       "      padding: 0 0 0 0;\n",
       "      width: 32px;\n",
       "    }\n",
       "\n",
       "    .colab-df-convert:hover {\n",
       "      background-color: #E2EBFA;\n",
       "      box-shadow: 0px 1px 2px rgba(60, 64, 67, 0.3), 0px 1px 3px 1px rgba(60, 64, 67, 0.15);\n",
       "      fill: #174EA6;\n",
       "    }\n",
       "\n",
       "    [theme=dark] .colab-df-convert {\n",
       "      background-color: #3B4455;\n",
       "      fill: #D2E3FC;\n",
       "    }\n",
       "\n",
       "    [theme=dark] .colab-df-convert:hover {\n",
       "      background-color: #434B5C;\n",
       "      box-shadow: 0px 1px 3px 1px rgba(0, 0, 0, 0.15);\n",
       "      filter: drop-shadow(0px 1px 2px rgba(0, 0, 0, 0.3));\n",
       "      fill: #FFFFFF;\n",
       "    }\n",
       "  </style>\n",
       "\n",
       "      <script>\n",
       "        const buttonEl =\n",
       "          document.querySelector('#df-d328cb5a-2330-4490-9e70-17b21d5bc7f0 button.colab-df-convert');\n",
       "        buttonEl.style.display =\n",
       "          google.colab.kernel.accessAllowed ? 'block' : 'none';\n",
       "\n",
       "        async function convertToInteractive(key) {\n",
       "          const element = document.querySelector('#df-d328cb5a-2330-4490-9e70-17b21d5bc7f0');\n",
       "          const dataTable =\n",
       "            await google.colab.kernel.invokeFunction('convertToInteractive',\n",
       "                                                     [key], {});\n",
       "          if (!dataTable) return;\n",
       "\n",
       "          const docLinkHtml = 'Like what you see? Visit the ' +\n",
       "            '<a target=\"_blank\" href=https://colab.research.google.com/notebooks/data_table.ipynb>data table notebook</a>'\n",
       "            + ' to learn more about interactive tables.';\n",
       "          element.innerHTML = '';\n",
       "          dataTable['output_type'] = 'display_data';\n",
       "          await google.colab.output.renderOutput(dataTable, element);\n",
       "          const docLink = document.createElement('div');\n",
       "          docLink.innerHTML = docLinkHtml;\n",
       "          element.appendChild(docLink);\n",
       "        }\n",
       "      </script>\n",
       "    </div>\n",
       "  </div>\n",
       "  "
      ],
      "text/plain": [
       "                 0            1            2            3            4\n",
       "count  1773.000000  1773.000000  1773.000000  1773.000000  1773.000000\n",
       "mean     10.238579    20.166385    30.358150    40.503666    50.687535\n",
       "std       8.142567    10.339112    11.019518    10.644396     8.242819\n",
       "min       1.000000     2.000000     4.000000     6.000000    14.000000\n",
       "25%       4.000000    12.000000    22.000000    34.000000    46.000000\n",
       "50%       8.000000    19.000000    30.000000    42.000000    53.000000\n",
       "75%      15.000000    27.000000    39.000000    49.000000    57.000000\n",
       "max      46.000000    56.000000    58.000000    59.000000    60.000000"
      ]
     },
     "execution_count": 7,
     "metadata": {},
     "output_type": "execute_result"
    }
   ],
   "source": [
    "numbers_df.describe()"
   ]
  },
  {
   "cell_type": "code",
   "execution_count": 8,
   "id": "r_C65tpdzIL2",
   "metadata": {
    "id": "r_C65tpdzIL2"
   },
   "outputs": [],
   "source": [
    "# normalize the data\n",
    "scaler = MinMaxScaler(feature_range=(0, 1))\n",
    "numbers_df = scaler.fit_transform(numbers_df)\n"
   ]
  },
  {
   "cell_type": "code",
   "execution_count": 9,
   "id": "hHvPIpvBsz2M",
   "metadata": {
    "id": "hHvPIpvBsz2M"
   },
   "outputs": [],
   "source": [
    "# split the data into training and testing sets\n",
    "train_size = int(len(numbers_df) * 0.7)\n",
    "train_data = numbers_df[:train_size, :]\n",
    "test_data = numbers_df[train_size:, :]\n"
   ]
  },
  {
   "cell_type": "code",
   "execution_count": 10,
   "id": "oLv7YBAHs-KS",
   "metadata": {
    "id": "oLv7YBAHs-KS"
   },
   "outputs": [],
   "source": [
    "def create_dataset(dataset, look_back=1):\n",
    "    dataX, dataY = [], []\n",
    "    for i in range(len(dataset) - look_back):\n",
    "        a = dataset[i:(i + look_back), :]\n",
    "        dataX.append(a)\n",
    "        dataY.append(dataset[i + look_back, :])\n",
    "    return np.array(dataX), np.array(dataY)"
   ]
  },
  {
   "cell_type": "code",
   "execution_count": 11,
   "id": "hBD24uSjs_Sp",
   "metadata": {
    "id": "hBD24uSjs_Sp"
   },
   "outputs": [],
   "source": [
    "# create the training and testing datasets\n",
    "look_back = 5\n",
    "trainX, trainY = create_dataset(train_data, look_back)\n",
    "testX, testY = create_dataset(test_data, look_back)"
   ]
  },
  {
   "cell_type": "markdown",
   "id": "y4TH5IlBef8a",
   "metadata": {
    "id": "y4TH5IlBef8a"
   },
   "source": [
    "# Model Training and Testing"
   ]
  },
  {
   "cell_type": "code",
   "execution_count": 12,
   "id": "p7uFVOHEzIR2",
   "metadata": {
    "colab": {
     "base_uri": "https://localhost:8080/"
    },
    "id": "p7uFVOHEzIR2",
    "outputId": "79286713-58b8-4324-e471-b06d7f03c802"
   },
   "outputs": [
    {
     "name": "stdout",
     "output_type": "stream",
     "text": [
      "Model: \"sequential\"\n",
      "_________________________________________________________________\n",
      " Layer (type)                Output Shape              Param #   \n",
      "=================================================================\n",
      " lstm (LSTM)                 (None, 5, 50)             11200     \n",
      "                                                                 \n",
      " lstm_1 (LSTM)               (None, 50)                20200     \n",
      "                                                                 \n",
      " dropout (Dropout)           (None, 50)                0         \n",
      "                                                                 \n",
      " dense (Dense)               (None, 59)                3009      \n",
      "                                                                 \n",
      " dropout_1 (Dropout)         (None, 59)                0         \n",
      "                                                                 \n",
      " dense_1 (Dense)             (None, 5)                 300       \n",
      "                                                                 \n",
      "=================================================================\n",
      "Total params: 34,709\n",
      "Trainable params: 34,709\n",
      "Non-trainable params: 0\n",
      "_________________________________________________________________\n"
     ]
    }
   ],
   "source": [
    "# define the model architecture\n",
    "model = Sequential()\n",
    "model.add(LSTM(units=50, return_sequences=True, input_shape=(5, 5)))\n",
    "model.add(LSTM(units=50))\n",
    "# Adding a first Dropout layer\n",
    "model.add(Dropout(0.2))\n",
    "# Adding the first output layer\n",
    "model.add(Dense(59))\n",
    "model.add(Dropout(0.2))\n",
    "model.add(Dense(units=5))\n",
    "\n",
    "# compile the model\n",
    "model.compile(optimizer=Adam(learning_rate= 0.00001 ), loss ='mse', metrics=['accuracy'] )\n",
    "model.summary()"
   ]
  },
  {
   "cell_type": "code",
   "execution_count": 13,
   "id": "NdN8EnO6zIWd",
   "metadata": {
    "colab": {
     "base_uri": "https://localhost:8080/"
    },
    "id": "NdN8EnO6zIWd",
    "outputId": "4e562940-3a5e-4598-da00-4e5333a1056f"
   },
   "outputs": [
    {
     "name": "stdout",
     "output_type": "stream",
     "text": [
      "Epoch 1/50\n",
      "39/39 [==============================] - 8s 61ms/step - loss: 0.3312 - accuracy: 0.1036 - val_loss: 0.3204 - val_accuracy: 0.0721\n",
      "Epoch 2/50\n",
      "39/39 [==============================] - 1s 13ms/step - loss: 0.3189 - accuracy: 0.1634 - val_loss: 0.3084 - val_accuracy: 0.1025\n",
      "Epoch 3/50\n",
      "39/39 [==============================] - 1s 19ms/step - loss: 0.3073 - accuracy: 0.1893 - val_loss: 0.2965 - val_accuracy: 0.1139\n",
      "Epoch 4/50\n",
      "39/39 [==============================] - 1s 17ms/step - loss: 0.2953 - accuracy: 0.2662 - val_loss: 0.2848 - val_accuracy: 0.1499\n",
      "Epoch 5/50\n",
      "39/39 [==============================] - 1s 21ms/step - loss: 0.2837 - accuracy: 0.2937 - val_loss: 0.2731 - val_accuracy: 0.3359\n",
      "Epoch 6/50\n",
      "39/39 [==============================] - 1s 16ms/step - loss: 0.2712 - accuracy: 0.3803 - val_loss: 0.2611 - val_accuracy: 0.6584\n",
      "Epoch 7/50\n",
      "39/39 [==============================] - 0s 13ms/step - loss: 0.2606 - accuracy: 0.4280 - val_loss: 0.2491 - val_accuracy: 0.8083\n",
      "Epoch 8/50\n",
      "39/39 [==============================] - 0s 12ms/step - loss: 0.2481 - accuracy: 0.4668 - val_loss: 0.2369 - val_accuracy: 0.8292\n",
      "Epoch 9/50\n",
      "39/39 [==============================] - 1s 14ms/step - loss: 0.2350 - accuracy: 0.5324 - val_loss: 0.2243 - val_accuracy: 0.8292\n",
      "Epoch 10/50\n",
      "39/39 [==============================] - 1s 13ms/step - loss: 0.2236 - accuracy: 0.5639 - val_loss: 0.2115 - val_accuracy: 0.8292\n",
      "Epoch 11/50\n",
      "39/39 [==============================] - 1s 13ms/step - loss: 0.2092 - accuracy: 0.6036 - val_loss: 0.1985 - val_accuracy: 0.8292\n",
      "Epoch 12/50\n",
      "39/39 [==============================] - 1s 16ms/step - loss: 0.1964 - accuracy: 0.6303 - val_loss: 0.1852 - val_accuracy: 0.8292\n",
      "Epoch 13/50\n",
      "39/39 [==============================] - 1s 13ms/step - loss: 0.1842 - accuracy: 0.6642 - val_loss: 0.1719 - val_accuracy: 0.8292\n",
      "Epoch 14/50\n",
      "39/39 [==============================] - 1s 14ms/step - loss: 0.1701 - accuracy: 0.6659 - val_loss: 0.1585 - val_accuracy: 0.8292\n",
      "Epoch 15/50\n",
      "39/39 [==============================] - 1s 13ms/step - loss: 0.1568 - accuracy: 0.6731 - val_loss: 0.1450 - val_accuracy: 0.8292\n",
      "Epoch 16/50\n",
      "39/39 [==============================] - 1s 14ms/step - loss: 0.1442 - accuracy: 0.7160 - val_loss: 0.1320 - val_accuracy: 0.8292\n",
      "Epoch 17/50\n",
      "39/39 [==============================] - 0s 12ms/step - loss: 0.1322 - accuracy: 0.7023 - val_loss: 0.1192 - val_accuracy: 0.8292\n",
      "Epoch 18/50\n",
      "39/39 [==============================] - 1s 13ms/step - loss: 0.1201 - accuracy: 0.7047 - val_loss: 0.1072 - val_accuracy: 0.8292\n",
      "Epoch 19/50\n",
      "39/39 [==============================] - 0s 9ms/step - loss: 0.1095 - accuracy: 0.7112 - val_loss: 0.0959 - val_accuracy: 0.8292\n",
      "Epoch 20/50\n",
      "39/39 [==============================] - 0s 8ms/step - loss: 0.0988 - accuracy: 0.7160 - val_loss: 0.0855 - val_accuracy: 0.8292\n",
      "Epoch 21/50\n",
      "39/39 [==============================] - 0s 8ms/step - loss: 0.0883 - accuracy: 0.7136 - val_loss: 0.0763 - val_accuracy: 0.8292\n",
      "Epoch 22/50\n",
      "39/39 [==============================] - 0s 7ms/step - loss: 0.0818 - accuracy: 0.7120 - val_loss: 0.0682 - val_accuracy: 0.8292\n",
      "Epoch 23/50\n",
      "39/39 [==============================] - 0s 8ms/step - loss: 0.0747 - accuracy: 0.7338 - val_loss: 0.0615 - val_accuracy: 0.8292\n",
      "Epoch 24/50\n",
      "39/39 [==============================] - 0s 8ms/step - loss: 0.0704 - accuracy: 0.7201 - val_loss: 0.0559 - val_accuracy: 0.8292\n",
      "Epoch 25/50\n",
      "39/39 [==============================] - 0s 8ms/step - loss: 0.0646 - accuracy: 0.7273 - val_loss: 0.0515 - val_accuracy: 0.8292\n",
      "Epoch 26/50\n",
      "39/39 [==============================] - 0s 7ms/step - loss: 0.0628 - accuracy: 0.7168 - val_loss: 0.0481 - val_accuracy: 0.8292\n",
      "Epoch 27/50\n",
      "39/39 [==============================] - 0s 8ms/step - loss: 0.0597 - accuracy: 0.7184 - val_loss: 0.0456 - val_accuracy: 0.8292\n",
      "Epoch 28/50\n",
      "39/39 [==============================] - 0s 8ms/step - loss: 0.0569 - accuracy: 0.7087 - val_loss: 0.0438 - val_accuracy: 0.8292\n",
      "Epoch 29/50\n",
      "39/39 [==============================] - 0s 11ms/step - loss: 0.0574 - accuracy: 0.7055 - val_loss: 0.0425 - val_accuracy: 0.8292\n",
      "Epoch 30/50\n",
      "39/39 [==============================] - 1s 13ms/step - loss: 0.0555 - accuracy: 0.6990 - val_loss: 0.0415 - val_accuracy: 0.8292\n",
      "Epoch 31/50\n",
      "39/39 [==============================] - 0s 11ms/step - loss: 0.0561 - accuracy: 0.7152 - val_loss: 0.0408 - val_accuracy: 0.8292\n",
      "Epoch 32/50\n",
      "39/39 [==============================] - 0s 11ms/step - loss: 0.0550 - accuracy: 0.7095 - val_loss: 0.0404 - val_accuracy: 0.8292\n",
      "Epoch 33/50\n",
      "39/39 [==============================] - 0s 10ms/step - loss: 0.0555 - accuracy: 0.7039 - val_loss: 0.0400 - val_accuracy: 0.8292\n",
      "Epoch 34/50\n",
      "39/39 [==============================] - 0s 8ms/step - loss: 0.0530 - accuracy: 0.7087 - val_loss: 0.0398 - val_accuracy: 0.8292\n",
      "Epoch 35/50\n",
      "39/39 [==============================] - 0s 8ms/step - loss: 0.0557 - accuracy: 0.7144 - val_loss: 0.0396 - val_accuracy: 0.8292\n",
      "Epoch 36/50\n",
      "39/39 [==============================] - 0s 8ms/step - loss: 0.0549 - accuracy: 0.6917 - val_loss: 0.0395 - val_accuracy: 0.8292\n",
      "Epoch 37/50\n",
      "39/39 [==============================] - 0s 8ms/step - loss: 0.0538 - accuracy: 0.6885 - val_loss: 0.0394 - val_accuracy: 0.8292\n",
      "Epoch 38/50\n",
      "39/39 [==============================] - 0s 8ms/step - loss: 0.0535 - accuracy: 0.6958 - val_loss: 0.0394 - val_accuracy: 0.8292\n",
      "Epoch 39/50\n",
      "39/39 [==============================] - 0s 7ms/step - loss: 0.0543 - accuracy: 0.6942 - val_loss: 0.0394 - val_accuracy: 0.8292\n",
      "Epoch 40/50\n",
      "39/39 [==============================] - 0s 8ms/step - loss: 0.0552 - accuracy: 0.6861 - val_loss: 0.0393 - val_accuracy: 0.8292\n",
      "Epoch 41/50\n",
      "39/39 [==============================] - 0s 8ms/step - loss: 0.0550 - accuracy: 0.6861 - val_loss: 0.0392 - val_accuracy: 0.8292\n",
      "Epoch 42/50\n",
      "39/39 [==============================] - 0s 8ms/step - loss: 0.0530 - accuracy: 0.7063 - val_loss: 0.0392 - val_accuracy: 0.8292\n",
      "Epoch 43/50\n",
      "39/39 [==============================] - 0s 8ms/step - loss: 0.0541 - accuracy: 0.7071 - val_loss: 0.0392 - val_accuracy: 0.8292\n",
      "Epoch 44/50\n",
      "39/39 [==============================] - 0s 8ms/step - loss: 0.0530 - accuracy: 0.7047 - val_loss: 0.0392 - val_accuracy: 0.8292\n",
      "Epoch 45/50\n",
      "39/39 [==============================] - 0s 8ms/step - loss: 0.0527 - accuracy: 0.6950 - val_loss: 0.0391 - val_accuracy: 0.8292\n",
      "Epoch 46/50\n",
      "39/39 [==============================] - 0s 8ms/step - loss: 0.0539 - accuracy: 0.6772 - val_loss: 0.0391 - val_accuracy: 0.8292\n",
      "Epoch 47/50\n",
      "39/39 [==============================] - 0s 7ms/step - loss: 0.0540 - accuracy: 0.6893 - val_loss: 0.0391 - val_accuracy: 0.8292\n",
      "Epoch 48/50\n",
      "39/39 [==============================] - 0s 8ms/step - loss: 0.0535 - accuracy: 0.7079 - val_loss: 0.0390 - val_accuracy: 0.8292\n",
      "Epoch 49/50\n",
      "39/39 [==============================] - 0s 8ms/step - loss: 0.0531 - accuracy: 0.7112 - val_loss: 0.0390 - val_accuracy: 0.8292\n",
      "Epoch 50/50\n",
      "39/39 [==============================] - 0s 7ms/step - loss: 0.0538 - accuracy: 0.6909 - val_loss: 0.0389 - val_accuracy: 0.8292\n"
     ]
    }
   ],
   "source": [
    "# train the model\n",
    "history = model.fit(trainX, trainY, validation_data =(testX, testY), epochs=50, batch_size=32)"
   ]
  },
  {
   "cell_type": "code",
   "execution_count": 18,
   "id": "FtyZ9TmahGj9",
   "metadata": {
    "colab": {
     "base_uri": "https://localhost:8080/"
    },
    "id": "FtyZ9TmahGj9",
    "outputId": "475bef5e-0d13-4b2d-d267-e465c91fe328"
   },
   "outputs": [
    {
     "name": "stdout",
     "output_type": "stream",
     "text": [
      "17/17 [==============================] - 0s 4ms/step - loss: 0.0389 - accuracy: 0.8292\n",
      "Test accuracy: 0.8292220234870911\n"
     ]
    }
   ],
   "source": [
    "test_loss, test_acc = model.evaluate(testX, testY)\n",
    "print('Test accuracy:', test_acc)"
   ]
  },
  {
   "cell_type": "code",
   "execution_count": 19,
   "id": "FkggGO21rd_K",
   "metadata": {
    "colab": {
     "base_uri": "https://localhost:8080/",
     "height": 282
    },
    "id": "FkggGO21rd_K",
    "outputId": "a64d91f3-a0d5-4e45-dca9-62319e865e1e"
   },
   "outputs": [
    {
     "data": {
      "text/plain": [
       "<AxesSubplot:>"
      ]
     },
     "execution_count": 19,
     "metadata": {},
     "output_type": "execute_result"
    },
    {
     "data": {
      "image/png": "[encoded data removed]",
      "text/plain": [
       "<Figure size 432x288 with 1 Axes>"
      ]
     },
     "metadata": {
      "needs_background": "light"
     },
     "output_type": "display_data"
    }
   ],
   "source": [
    "history_df = pd.DataFrame(history.history)\n",
    "history_df[['accuracy', 'val_accuracy']].plot()"
   ]
  },
  {
   "cell_type": "code",
   "execution_count": 20,
   "id": "sJ9Ii_QGreBx",
   "metadata": {
    "colab": {
     "base_uri": "https://localhost:8080/",
     "height": 282
    },
    "id": "sJ9Ii_QGreBx",
    "outputId": "1ce1a46c-2c95-4355-b5d2-c0969135e69e"
   },
   "outputs": [
    {
     "data": {
      "text/plain": [
       "<AxesSubplot:>"
      ]
     },
     "execution_count": 20,
     "metadata": {},
     "output_type": "execute_result"
    },
    {
     "data": {
      "image/png": "[encoded data removed]",
      "text/plain": [
       "<Figure size 432x288 with 1 Axes>"
      ]
     },
     "metadata": {
      "needs_background": "light"
     },
     "output_type": "display_data"
    }
   ],
   "source": [
    "history_df = pd.DataFrame(history.history)\n",
    "history_df[['loss', 'val_loss']].plot()"
   ]
  },
  {
   "cell_type": "markdown",
   "id": "VLQXs4YvfCc4",
   "metadata": {
    "id": "VLQXs4YvfCc4"
   },
   "source": [
    "# Prediction for Next Sequence"
   ]
  },
  {
   "cell_type": "code",
   "execution_count": 21,
   "id": "zu4qBD-Mz6QU",
   "metadata": {
    "colab": {
     "base_uri": "https://localhost:8080/"
    },
    "id": "zu4qBD-Mz6QU",
    "outputId": "c0c09f23-edf9-4851-9f11-63c8daf6c1d0"
   },
   "outputs": [
    {
     "name": "stdout",
     "output_type": "stream",
     "text": [
      "1/1 [==============================] - 0s 22ms/step\n",
      "Predicted next Sequence: [9, 19, 28, 37, 47]\n"
     ]
    }
   ],
   "source": [
    "# use the model to predict the sequence of numbers\n",
    "last_numbers = numbers_df[-5:]\n",
    "last_numbers = np.reshape(last_numbers, (1, 5, 5))\n",
    "predicted_numbers = model.predict(last_numbers)\n",
    "predicted_numbers = scaler.inverse_transform(predicted_numbers)\n",
    "predicted_numbers = [int(i) for i in predicted_numbers[0]]\n",
    "\n",
    "print('Predicted next Sequence:', predicted_numbers)"
   ]
  }
 ],
 "metadata": {
  "accelerator": "GPU",
  "colab": {
   "provenance": []
  },
  "gpuClass": "standard",
  "kernelspec": {
   "display_name": "Python 3 (ipykernel)",
   "language": "python",
   "name": "python3"
  },
  "language_info": {
   "codemirror_mode": {
    "name": "ipython",
    "version": 3
   },
   "file_extension": ".py",
   "mimetype": "text/x-python",
   "name": "python",
   "nbconvert_exporter": "python",
   "pygments_lexer": "ipython3",
   "version": "3.9.12"
  }
 },
 "nbformat": 4,
 "nbformat_minor": 5
}
